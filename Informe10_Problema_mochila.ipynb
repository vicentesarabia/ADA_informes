{
  "nbformat": 4,
  "nbformat_minor": 0,
  "metadata": {
    "colab": {
      "provenance": [],
      "collapsed_sections": [],
      "authorship_tag": "ABX9TyMHHczKqOb/qOBv6UtRFQQ1",
      "include_colab_link": true
    },
    "kernelspec": {
      "name": "python3",
      "display_name": "Python 3"
    },
    "language_info": {
      "name": "python"
    }
  },
  "cells": [
    {
      "cell_type": "markdown",
      "metadata": {
        "id": "view-in-github",
        "colab_type": "text"
      },
      "source": [
        "<a href=\"https://colab.research.google.com/github/vicentesarabia/ADA_informes/blob/main/Informe10_Problema_mochila.ipynb\" target=\"_parent\"><img src=\"https://colab.research.google.com/assets/colab-badge.svg\" alt=\"Open In Colab\"/></a>"
      ]
    },
    {
      "cell_type": "markdown",
      "source": [
        "# 1.-Problema\n",
        "\n",
        "Entrada: Entra dos arreglos, uno del valor de un objeto y otro el peso de este objeto, y también el peso máximo que puede cargar la mochila.\n",
        "\n",
        "Salida: El máximo beneficio que se puede obtener con el peso máximo de la mochila."
      ],
      "metadata": {
        "id": "miFtWTdgyGm_"
      }
    },
    {
      "cell_type": "markdown",
      "source": [
        "![mochila-0-1.png](data:image/png;base64,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)"
      ],
      "metadata": {
        "id": "gVmmdzCdn_US"
      }
    },
    {
      "cell_type": "markdown",
      "source": [
        "Un ladrón tiene una mochila de n peso, se puede robar m objetos los cuales cada uno tiene un valor y un peso, el problema a solucionar es cual es el máximo beneficio que puede sacar el ladrón, robando una cantidad b de objetos que permita el peso de su mochila."
      ],
      "metadata": {
        "id": "UOXn918OoKF2"
      }
    },
    {
      "cell_type": "markdown",
      "source": [
        "# 2.- Descripción del algoritmo\n",
        "\n",
        "**2.1 descripción solución programación dinámica**\n",
        "\n",
        "Una de las soluciones a este problema implementar un algoritmo de forma dinámica, en la cual se busca el máximo beneficio posible con el peso de la mochila ingresado.\n",
        "\n",
        "Primero se crea una matriz para guardar todas las posibles soluciones de tamaño n+1 / peso máximo +1 siendo n el largo del arreglo de valores.\n",
        "\n",
        "Luego se recorren dos ciclos repetitivos donde el rango de estos son los límites de la matriz anterior generada, luego hay 3 condiciones, en la que la primera condición es si i=0 y w=0, los cuales serán los casos base de este algoritmo, se denota el valor máximo de j-peso considerando todos los valores del de 1 al i-esimo\".\n",
        "Entonces, si consideramos wi(peso en la enésima fila) podemos completarlo en todas las columnas que tienen \"volar de peso>wi\", con esto caben dos posibilidades:\n",
        "-completar wi en la columna dada\n",
        "-no tiene wi en la columna dada\n",
        "ahora se tiene que tomar el máximo de estas dos posibilidades, por lo que llenamos el estado actual.\n",
        "\n",
        "Una forma de explicar mejor esta solución es mediante la sub estructura óptima que está definido por la siguiente función de recursión:\n",
        "\n",
        "$matriz[i,w]= \\begin{cases}\n",
        "  0  &  \\text{if   i = 0 or w = 0 } \\\\\n",
        "  max(matriz[i-1,w],matriz[i-1,w-w[i]+valores[i]) & \\text{ if w[i]<=w} \\\\\n",
        "  matriz[i-1,w] & \\text{if w[i]>w}\n",
        "\\end{cases}$"
      ],
      "metadata": {
        "id": "Rx3m4xTCyMBm"
      }
    },
    {
      "cell_type": "code",
      "source": [
        "\n",
        "import numpy as np\n",
        "\n",
        "def problema_Mochila(valores, pesos, peso_maximo,verbose): \n",
        "\n",
        "    n = len(valores)\n",
        "\n",
        "    global cont2\n",
        "    matriz = np.array([[0]*(peso_maximo+ 1)]*(len(pesos) + 1))\n",
        "    if verbose==True:print(\"se crea una matriz y se llena de 0s\")\n",
        "    if verbose==True:print(matriz)\n",
        "    for i in range(n + 1):\n",
        "        \n",
        "        for w in range(peso_maximo + 1):\n",
        "             \n",
        "            if i == 0 or w == 0: \n",
        "                matriz[i, w] = 0 \n",
        "                \n",
        "            elif pesos[i-1] <= w:\n",
        "                cont2+=1 \n",
        "                \n",
        "                matriz[i, w] = max(valores[i-1] + matriz[i-1, w-pesos[i-1]],   \n",
        "                              matriz[i-1, w])\n",
        "            else:\n",
        "                cont2+=1 \n",
        "                matriz[i, w] = matriz[i-1, w] \n",
        "    \n",
        "    if verbose==True:print(\"se ingresan todos los subproblemas en la matriz\")\n",
        "    if verbose==True:print(matriz)\n",
        "    if verbose==True:print(\"se retorna la posicion de la matriz[n,peso_maximo] ya que este es el maximo beneficio posible\")\n",
        "    if verbose==True:print(\"maximo beneficio:\",matriz[n,peso_maximo])\n",
        "    return matriz[n, peso_maximo] \n",
        "\n",
        "val = [6,3,6,4] \n",
        "pesos = [2,1,4,3]\n",
        "peso_maximo = 10\n",
        "cont2=0\n",
        "verbose=True\n",
        "print(\"La solucion optima es:\",problema_Mochila(val,pesos,peso_maximo,verbose))\n",
        "print(\"cantidad de subsoluciones:\",cont2)"
      ],
      "metadata": {
        "colab": {
          "base_uri": "https://localhost:8080/"
        },
        "id": "rGBtfs0AKQUq",
        "outputId": "4fbd3b4a-1f8e-414f-d10e-a67c34c177a2"
      },
      "execution_count": 35,
      "outputs": [
        {
          "output_type": "stream",
          "name": "stdout",
          "text": [
            "se crea una matriz y se llena de 0s\n",
            "[[0 0 0 0 0 0 0 0 0 0 0]\n",
            " [0 0 0 0 0 0 0 0 0 0 0]\n",
            " [0 0 0 0 0 0 0 0 0 0 0]\n",
            " [0 0 0 0 0 0 0 0 0 0 0]\n",
            " [0 0 0 0 0 0 0 0 0 0 0]]\n",
            "se ingresan todos los subproblemas en la matriz\n",
            "[[ 0  0  0  0  0  0  0  0  0  0  0]\n",
            " [ 0  0  6  6  6  6  6  6  6  6  6]\n",
            " [ 0  3  6  9  9  9  9  9  9  9  9]\n",
            " [ 0  3  6  9  9  9 12 15 15 15 15]\n",
            " [ 0  3  6  9  9 10 13 15 15 16 19]]\n",
            "se retorna la posicion de la matriz[n,peso_maximo] ya que este es el maximo beneficio posible\n",
            "maximo beneficio: 19\n",
            "La solucion optima es: 19\n",
            "cantidad de subsoluciones: 40\n"
          ]
        }
      ]
    },
    {
      "cell_type": "markdown",
      "source": [
        "**2.2 Descripción solución greedy**\n",
        "\n",
        "Este algoritmo se implementa de forma greedy fraccional, el cual toma 3 argumentos, primero el arreglo de valores, segundo un arreglo del peso en relación a los valores y el peso máximo que tiene la mochila.\n",
        "\n",
        "Primero la función lo que hace es sacar una lista los cuales son los índices de los objetos, luego saca un ratio y luego los índices los ordena según el ratio que tiene este, luego función básicamente elige un ítem de los ítems que tienen la máxima relación entre peso/valor.\n",
        "Si la mochila puede incluir el peso total del artículo, entonces el monto total del artículo se agrega a la mochila, si no es así, entonces agrega solo una fracción de este artículo para que la mochila se llene, esto se repite hasta que la mochila se llena por lo que el peso total alcanzado es el máximo peso posible dentro de la mochila."
      ],
      "metadata": {
        "id": "D4Bk2UOYUil6"
      }
    },
    {
      "cell_type": "code",
      "source": [
        "def fractional_knapsack(value, weight, capacity,verbose):\n",
        "    if verbose==True:print(\"arreglo de valores\",value)\n",
        "    if verbose==True:print(\"arreglo de pesos\",weight)\n",
        "    index = list(range(len(value)))\n",
        "    global cont1\n",
        "    ratio = [v/w for v, w in zip(value, weight)]\n",
        " \n",
        "    index.sort(key=lambda i: ratio[i], reverse=True)\n",
        "    \n",
        "    max_value = 0\n",
        "    if verbose == True:print(\"maximo beneficio inicial\",max_value)\n",
        "    if verbose == True:print(\"capacidad de la mochila\",capacity)\n",
        "    if verbose == True:print(\"si peso[i] <= capacidad de la mochila\")\n",
        "    for i in index:\n",
        "        cont1+=1\n",
        "\n",
        "        if verbose == True:print(\"si\",weight[i],\"<=\", capacity)\n",
        "        if weight[i] <= capacity:\n",
        "            \n",
        "            max_value += value[i]\n",
        "            if verbose == True:print(\"maximo beneficio actual:\",max_value)\n",
        "            capacity -= weight[i]\n",
        "            if verbose == True:print(\"capacidad mmochila actual\",capacity)\n",
        "        else:\n",
        "            if verbose == True:print(\"se acabo el espacio de la mochila por lo que\")\n",
        "            max_value += value[i]*capacity/weight[i]\n",
        "            if verbose == True:print(\"max_value += value[i]*capacity/weight[i]\")\n",
        "            if verbose == True:print(\"maximo beneficio:\",max_value)\n",
        "            break\n",
        " \n",
        "    return max_value\n",
        " \n",
        " \n",
        "\n",
        "value = [6,3,6,4,3,6,8] \n",
        "weight =[2,1,4,3,2,3,2]\n",
        "cont1=0\n",
        "capacity = 10\n",
        "verbose=False\n",
        "max_value= fractional_knapsack(value, weight, capacity,verbose)\n",
        "print('El maximo beneficio de la maxima capacidad en relaion del peso de la mochila es:', (max_value))\n",
        "print(\"cantidad de iteraciones:\",cont1)\n"
      ],
      "metadata": {
        "id": "NAj9LXhka6SQ",
        "colab": {
          "base_uri": "https://localhost:8080/"
        },
        "outputId": "6e60eae2-1d04-41a6-c0af-f619f3c10c8e"
      },
      "execution_count": 22,
      "outputs": [
        {
          "output_type": "stream",
          "name": "stdout",
          "text": [
            "El maximo beneficio de la maxima capacidad en relaion del peso de la mochila es: 26.0\n",
            "cantidad de iteraciones: 5\n"
          ]
        }
      ]
    },
    {
      "cell_type": "markdown",
      "source": [
        "**2.3 verbose == true**"
      ],
      "metadata": {
        "id": "MSIJy6ukeJLo"
      }
    },
    {
      "cell_type": "code",
      "source": [
        "import random\n",
        "\n",
        "def knapsack_instance_generator(N):\n",
        "  val = []\n",
        "  wt = []\n",
        "  prev_v = 0\n",
        "  prev_w = 0\n",
        "  for i in range(N):\n",
        "    v = random.randint(1, 100)\n",
        "    val.append(prev_v + v)\n",
        "    prev_v += v\n",
        "    \n",
        "    w = random.randint(1, 10)\n",
        "    wt.append(prev_w + w)\n",
        "    if (v >= 50):\n",
        "        prev_w += w\n",
        "\n",
        "  W = int(sum(wt) / 2)\n",
        "  return W, val, wt\n",
        "\n",
        "W, val, wt = knapsack_instance_generator(10)\n",
        "verbose = True\n",
        "max_value= fractional_knapsack(val, wt, W,verbose)\n",
        "\n",
        "print('El maximo beneficio de la maxima capacidad en relaion del peso de la mochila es:', (max_value))\n",
        "print(problema_Mochila(val, wt, W,verbose))"
      ],
      "metadata": {
        "id": "HM2ea3XdyGXX",
        "colab": {
          "base_uri": "https://localhost:8080/"
        },
        "outputId": "9190267f-5b1f-4fec-92b0-bb3c27d2b35d"
      },
      "execution_count": 13,
      "outputs": [
        {
          "output_type": "stream",
          "name": "stdout",
          "text": [
            "arreglo de valores [47, 96, 101, 138, 193, 270, 328, 419, 502, 574]\n",
            "arreglo de pesos [2, 6, 2, 4, 9, 11, 19, 29, 35, 44]\n",
            "maximo beneficio inicial 0\n",
            "capacidad de la mochila 80\n",
            "si peso[i] <= capacidad de la mochila\n",
            "si 2 <= 80\n",
            "maximo beneficio actual: 101\n",
            "capacidad mmochila actual 78\n",
            "si 4 <= 78\n",
            "maximo beneficio actual: 239\n",
            "capacidad mmochila actual 74\n",
            "si 11 <= 74\n",
            "maximo beneficio actual: 509\n",
            "capacidad mmochila actual 63\n",
            "si 2 <= 63\n",
            "maximo beneficio actual: 556\n",
            "capacidad mmochila actual 61\n",
            "si 9 <= 61\n",
            "maximo beneficio actual: 749\n",
            "capacidad mmochila actual 52\n",
            "si 19 <= 52\n",
            "maximo beneficio actual: 1077\n",
            "capacidad mmochila actual 33\n",
            "si 6 <= 33\n",
            "maximo beneficio actual: 1173\n",
            "capacidad mmochila actual 27\n",
            "si 29 <= 27\n",
            "se acabo el espacio de la mochila por lo que\n",
            "max_value += value[i]*capacity/weight[i]\n",
            "maximo beneficio: 1563.103448275862\n",
            "El maximo beneficio de la maxima capacidad en relaion del peso de la mochila es: 1563.103448275862\n",
            "La solución optima es = 1545\n",
            "1545\n"
          ]
        }
      ]
    },
    {
      "cell_type": "markdown",
      "source": [
        "**2.4 Ejemplo greedy**\n",
        "\n",
        "\n",
        "valor = [6,3,6,4] \n",
        "pesos = [2,1,4,3]\n",
        "peso máximo = 6\n",
        "máximo valor = 0\n",
        "\n",
        "se crea index en rango del arreglo del valor\n",
        "\n",
        "[0, 1, 2, 3]\n",
        "\n",
        "luego un ratio\n",
        "\n",
        "[3.0, 3.0, 1.5, 1.3333333333333333]\n",
        "\n",
        "si la el peso del objeto i es menor igual a la capacidad de\n",
        "la mochila\n",
        "i=0\n",
        "peso[i]<=capacidad\n",
        "\n",
        "2<=6\n",
        "\n",
        "por lo que\n",
        "\n",
        "Máximo valor=6\n",
        "\n",
        "se resta el peso a la capacidad de la mochila\n",
        "\n",
        "capacidad:4\n",
        "\n",
        "i=1\n",
        "\n",
        "peso[i]<=capacidad\n",
        "\n",
        "1<=4 si por lo que\n",
        "\n",
        "se suma el valor al máximo valor anterior\n",
        "\n",
        "Máximo valor=9\n",
        "\n",
        "capacidad:3\n",
        "\n",
        "i=2\n",
        "\n",
        "peso[i]<=capacidad\n",
        "\n",
        "4<=3 como no se cumple\n",
        "\n",
        "Máximo valor = 9 +  6*(4/3)= 13.5\n",
        "\n",
        "como la mochila ya se llenó se termina la ejecución\n",
        "\n",
        "valor máximo = 13.5\n",
        "\n"
      ],
      "metadata": {
        "id": "E_Q0sof0yfRv"
      }
    },
    {
      "cell_type": "markdown",
      "source": [
        "# 3.- Correctitud\n",
        "\n",
        "**3.1 Teorema correctitud solución dinámica**\n",
        "\n",
        "El algoritmo resuelve el problema de la mochila de dos arreglos con valores y pesos de objetos con una capacidad limitada de espacio que retorna el máximo beneficio posible para un subproblema óptimo.\n",
        "\n",
        "**3.2 Prueba teorema**\n",
        "\n",
        "Para poder comprobar nuestro teorema se utilizará la sub estructura óptima:\n",
        "\n",
        "**$matriz[i,w]= \\begin{cases}\n",
        "  0  &  \\text{if   i = 0 or w = 0 } \\\\\n",
        "  max(matriz[i-1,w],matriz[i-1,w-w[i]+valores[i]) & \\text{ if w[i]<=w} \\\\\n",
        "  matriz[i-1,w] & \\text{if w[i]>w}\n",
        "\\end{cases}$**\n",
        "\n",
        "Se toma que w[i]>w no agrega más elementos a la mochila, ya que se considera que está ya está llena, por lo que supera la capacidad de peso que tiene la mochila, y la condición w[i]<=w el cual si agrega elementos a la mochila, pero solo si este aumenta el valor total, teniendo esto el algoritmo se puede probar con inducción:\n",
        "\n",
        "**Caso base**:\n",
        "\n",
        "Con w(1) se considera el primer elemento i=1 como solución óptima del problema o subproblema\n",
        "\n",
        "**Paso inductivo**:\n",
        "\n",
        "Con w(m) se tiene que la solución óptima se basa en los subproblemas anteriores y depende totalmente de la fórmula de la sub estructura óptima mostrada anteriormente, por lo que el algoritmo es correcto.\n",
        "\n",
        "\n",
        "**3.3 teorema correctitud solución greedy**\n",
        "\n",
        "El algoritmo greedy no siempre obtiene la solución óptima.\n",
        "\n",
        "**3.4 prueba del teorema**\n",
        "\n",
        "El algoritmo de forma greedy se ejecuta hasta que una de los pesos de los objetos a robar sobrepasa el máximo peso posible de la mochila, la cual a medida que se ingresan objetos a la mochila esta va en decreciendo, por lo que el algoritmo greedy considera que esta es la solución óptima y se deja de ejecutar por lo que no siempre retornara la máxima solución óptima del problema. \n",
        "\n",
        "\n",
        "\n",
        "\n",
        "\n"
      ],
      "metadata": {
        "id": "k4DYv2JryiQb"
      }
    },
    {
      "cell_type": "markdown",
      "source": [
        "#4.- Tiempo de ejecución\n",
        "\n",
        "**4.1 teorema tiempo de ejecución solución dinámica**\n",
        "\n",
        "El algoritmo que resuelve el problema de la mochila de forma dinámica tiene un tiempo de ejecución de O(n*W).\n",
        "\n",
        "\n",
        "**4.2 prueba de teorema**\n",
        "\n",
        "Para poder sacar el tiempo de ejecución de este algoritmo es tan simple como ver el codigo, ya que se puede ver a simple vista.\n"
      ],
      "metadata": {
        "id": "5hxBnw9jylLD"
      }
    },
    {
      "cell_type": "markdown",
      "source": [
        "![image.png](data:image/png;base64,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)"
      ],
      "metadata": {
        "id": "fJB80dNi__BJ"
      }
    },
    {
      "cell_type": "markdown",
      "source": [
        "Se tiene que n es el largo del arreglo de valores que se pasa a nuestra función y W es el peso máximo que tiene la mochila, primero la creación de la matriz tiene una complejidad de O(1) porque solo se crea una matriz y se rellena de 0, luego nos encontramos con el ciclo for el cual itera hasta n por lo que su tiempo de ejecución es de O(n), luego se ingresa a otro ciclo for el cual itera hasta W+1 que es el peso máximo de la mochila lo que da un tiempo de ejecución de O(w) liego la operación de la primera condición if tiene un tiempo de ejecucion de O(1) y la siguiente condicion cada una de las operaciones también se calculan en O(1) por lo que el tiempo de ejecucion de este quedaria de la siguiente manera:\n",
        "\n",
        "$O(1)+O(1)+O(n)*O(W)+O(1)+O(1)+O(1)=O(nW)$\n",
        "\n",
        "La cual la complejidad del tiempo depende de W osea el peso maximo de la mochila.\n",
        "\n",
        "**4.3 Teorema tiempo de ejecución greedy**\n",
        "\n",
        "El algoritmo tiene un tiempo de ejecución de $O(nlog(n))$\n",
        "\n",
        "**4.4 prueba teorema**\n",
        "\n",
        "Este algoritmo crea un arreglo llamado index el cuál es la cantidad de elementos que tiene el arreglo de valores el cual se crea un ratio de cada uno de sus elementos, el cual su ratio es la relación valor/peso (vi/wi), luego según como quede el arreglo se ordena de forma decreciente, por esto se forman dos casos, cuando se ordena este arreglo index y cuando el arreglo ya está ordenado, cuando el arreglo ya está ordenado el tiempo de ejecución de este están solo la del ciclo for por lo que queda $O(n)$, en cambio, cuando se tiene que ordenar el arreglo index el tiempo de ejecución que toma este es de $O(n*log(n))$."
      ],
      "metadata": {
        "id": "hqGKD6LMAAuD"
      }
    },
    {
      "cell_type": "markdown",
      "source": [
        "# 5.- Experimentos"
      ],
      "metadata": {
        "id": "o4T46JrJyoKf"
      }
    },
    {
      "cell_type": "markdown",
      "source": [
        "**5.1 Experimento 1**\n",
        "\n",
        "En este primer experimento se realizará una comparación en el tiempo de ejecución de los algoritmos que resuelven el problema de la mochila de forma dinámica y de forma greedy fraccionaria."
      ],
      "metadata": {
        "id": "xAs05w3NQJ-H"
      }
    },
    {
      "cell_type": "code",
      "source": [
        "import random\n",
        "import matplotlib.pyplot as plt\n",
        "import datetime\n",
        "from timeit import repeat\n",
        "#fractional_knapsack(value, weight, capacity,verbose)\n",
        "#problema_Mochila(valores, pesos, peso_maximo)\n",
        "x,y,y1 = [],[],[]\n",
        "vari=1;\n",
        "verbose=False\n",
        "for n in range(5,50):\n",
        "\n",
        "  W, val, wt = knapsack_instance_generator(n)\n",
        "\n",
        "  \n",
        "  t = repeat(setup=\"from __main__ import fractional_knapsack\", stmt=f\"fractional_knapsack({val},{wt},{W},{verbose})\", repeat=1, number=10)\n",
        "  j = repeat(setup=\"from __main__ import problema_Mochila\", stmt=f\"problema_Mochila({val},{wt},{W},{verbose})\", repeat=1, number=10)\n",
        "  x.append(n)\n",
        "  y.append(t)\n",
        "  y1.append(j)\n",
        "\n",
        "\n",
        "plt.plot(x,y)\n",
        "plt.plot(x,y1)\n",
        "plt.legend([\"Greedy fraccional\",\"Programacion dinamica\"])\n",
        "\n",
        "\n",
        "plt.xlabel('n')\n",
        "plt.ylabel('Tiempo en ms')\n",
        "plt.show()"
      ],
      "metadata": {
        "id": "qUNK4bt9yne4",
        "colab": {
          "base_uri": "https://localhost:8080/",
          "height": 279
        },
        "outputId": "d0d37c7f-03ae-49b0-b4af-bc41d4e3d7b4"
      },
      "execution_count": 19,
      "outputs": [
        {
          "output_type": "display_data",
          "data": {
            "text/plain": [
              "<Figure size 432x288 with 1 Axes>"
            ],
            "image/png": "[encoded data removed]"
          },
          "metadata": {
            "needs_background": "light"
          }
        }
      ]
    },
    {
      "cell_type": "markdown",
      "source": [
        "**observaciones y análisis**\n",
        "\n",
        "Se puede ver que hay una gran diferencia entre un algoritmo y el otro, como también que el algoritmo dinámico tiene un tiempo de ejecución mucho mayor, pero uno se pregunta porque, ya que el algoritmo greedy tiene un tiempo de ejecución O(nlogn) o O(n) dependiendo del arreglo index y el algoritmo dinámico tiene un tiempo de ejecución de O(n*W) y este drástico cambio se puede deber al tamaño que toma el peso de la mochila, ya que mientras mayor sea este el for dentro de la implementación del algoritmo dinámico será mucho más largo, lo cual es más tiempo de ejecución lo cual hace que O(n*W)>O(n) lo cual es correctamente graficado."
      ],
      "metadata": {
        "id": "KFk5StebceM2"
      }
    },
    {
      "cell_type": "markdown",
      "source": [
        "**5.2 Experimento 2**\n",
        "\n",
        "En este experimento se compara la cantidad de subproblemas resueltos en el algoritmo dinámico vs la cantidad de iteraciones que tiene el algoritmo greedy"
      ],
      "metadata": {
        "id": "6CkQtslhgYhN"
      }
    },
    {
      "cell_type": "code",
      "source": [
        "import random\n",
        "import matplotlib.pyplot as plt\n",
        "\n",
        "x=[n for n in range(1,20)] \n",
        "y1=[]\n",
        "y=[]; \n",
        "verbose=False\n",
        "for n in range(1,20):\n",
        "  W, val, wt = knapsack_instance_generator(n)\n",
        "\n",
        "  cont1=0\n",
        "  \n",
        "  fractional_knapsack(val,wt,W,verbose)\n",
        "  cont2=0\n",
        "\n",
        "  problema_Mochila(val,wt,W,verbose)\n",
        "\n",
        "  y.append(cont1)\n",
        "  y1.append(cont2)\n",
        "\n",
        "\n",
        "plt.plot(x,y)\n",
        "plt.plot(x,y1)\n",
        "\n",
        "plt.legend([\"Cantidad iteraciones Greedy\", \"Cantidad de subproblemas resueltos dinamico\"])\n",
        "\n",
        "plt.xlabel('n')\n",
        "plt.ylabel('Cantidad de iteraciones')\n",
        "plt.show()"
      ],
      "metadata": {
        "colab": {
          "base_uri": "https://localhost:8080/",
          "height": 279
        },
        "id": "lNMGUZ-Kd_N1",
        "outputId": "74403539-33b8-4d4b-88ed-d0d3bfed5658"
      },
      "execution_count": 27,
      "outputs": [
        {
          "output_type": "display_data",
          "data": {
            "text/plain": [
              "<Figure size 432x288 with 1 Axes>"
            ],
            "image/png": "[encoded data removed]"
          },
          "metadata": {
            "needs_background": "light"
          }
        }
      ]
    },
    {
      "cell_type": "markdown",
      "source": [
        "**observaciones y análisis**\n",
        "\n",
        "Se puede ver que la cantidad de subproblemas resueltos por el algoritmo dinámico supera por mucho la cantidad de iteraciones que hace el algoritmo greedy y esto tiene una razon, ya que el algoritmo dinámico explora todas las posibles combinaciones que puede tener la mochila, en cambio, el algoritmo greedy crea el ratio de los objetos y los ordena por lo que la cantidad de iteraciones que haga el algoritmo dependerá únicamente de la cantidad de objetos que se le pasen o si el peso máximo de la mochila ya fue excedido."
      ],
      "metadata": {
        "id": "mVjK5Vruf2go"
      }
    }
  ]
}