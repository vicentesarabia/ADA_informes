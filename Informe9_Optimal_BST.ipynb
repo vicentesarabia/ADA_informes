{
  "nbformat": 4,
  "nbformat_minor": 0,
  "metadata": {
    "colab": {
      "provenance": [],
      "collapsed_sections": [],
      "authorship_tag": "ABX9TyOWZv1qsihN67mFQ6m28lpI",
      "include_colab_link": true
    },
    "kernelspec": {
      "name": "python3",
      "display_name": "Python 3"
    },
    "language_info": {
      "name": "python"
    }
  },
  "cells": [
    {
      "cell_type": "markdown",
      "metadata": {
        "id": "view-in-github",
        "colab_type": "text"
      },
      "source": [
        "<a href=\"https://colab.research.google.com/github/vicentesarabia/ADA_informes/blob/main/Informe9_Optimal_BST.ipynb\" target=\"_parent\"><img src=\"https://colab.research.google.com/assets/colab-badge.svg\" alt=\"Open In Colab\"/></a>"
      ]
    },
    {
      "cell_type": "markdown",
      "source": [
        "# 1.-Problema\n",
        "\n",
        "Entrada: Secuencia de keys de n elementos, en la cual cada keys tiene una posibilidad de ser buscada(freq).\n",
        "\n",
        "Salida:Costo mínimo esperado en el árbol de búsqueda binaria.\n",
        "\n"
      ],
      "metadata": {
        "id": "miFtWTdgyGm_"
      }
    },
    {
      "cell_type": "markdown",
      "source": [
        "![descargar.png](data:image/png;base64,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)"
      ],
      "metadata": {
        "id": "VouR9aCrkQoT"
      }
    },
    {
      "cell_type": "markdown",
      "source": [
        "El problema que busca solucionar uno de los más conocidos es el de traducción de texto, ya que las palabras aparecen en distintas frecuencias, por lo que al optimizar la búsqueda el costo será el mínimo posible."
      ],
      "metadata": {
        "id": "nd6zdHpvkXfZ"
      }
    },
    {
      "cell_type": "markdown",
      "source": [
        "# 2.- Descripción del algoritmo\n",
        "\n",
        "Para saber mejor que es un árbol de búsqueda binaria óptima primero hay que saber que es un árbol binario y la definición de estos es simple, ya que es una estructura de datos en la cual tienen nodos, los cuales pueden ser padres o hijos, los hijos son ramas del padre uno a la izquierda y otro de la derecha, esto depende de como se construya el arbol, ya que puede quedar nodos sin hijos o con un solo hijo, el caso, un árbol de búsqueda binario óptimo se sabe la frecuencia de cada clave de ser buscado, en la cual este árbol donde la búsqueda es el cote medio de buscar cada clave la cual se reduce al mínimo.\n",
        "\n",
        "**2.1 descripción solución recursiva**\n",
        "\n",
        "Una forma de solucionar este problema es de forma recursiva, en la cual como ya se sabe consiste en ir llamándose constantemente hasta poder solucionar el problema, se sabe que en problemas que se tienen que solucionar muchos problemas de forma recursiva no es óptimo, ya que si los problemas son muy grandes estos si van con un tiempo exponencial, el cual no es la excepción en esta solución.\n",
        "\n",
        "Para esta solución recursiva se utiliza la siguiente fórmula:\n",
        "\n",
        "$optcost(i,j)=\\sum_{k=i}^{j} freq[k]+min_{r=1}^{j}[optcost(i,r-1)+optcost(r+1,j)]$\n",
        "\n",
        "En la cual se necesita calcular optcost(0,n-1) para encontrar el resultado.\n",
        "La fórmula funciona probando todos los nodos como raíz, en la que r varía ente i a j.\n",
        "\n",
        "Cuando convertimos un nodo r en raíz se calcula recursivamente el costo óptimo de a r-1 y de r+1 a j.\n",
        "\n",
        "Se agrega la suma de las frecuencias i a j como se ve en la fórmula, como se realiza esto se puede dividir en 2 partes, una la frecuencia r + la suma de las frecuencias de todos los elementos de i a j sin contar r, en la cual el término freq[r] se agrega porque va a ser raíz lo que es el nivel 1 del árbol entonces freq[r]*1=freq[r], la otra parte porque cuando tomas r como raíz todos los elementos que no sean ese se van al nivel 1 abajo de la clave calculada en el subproblema.\n",
        "\n",
        "A continuacion la implementacion de la solucion recursiva:\n"
      ],
      "metadata": {
        "id": "Rx3m4xTCyMBm"
      }
    },
    {
      "cell_type": "code",
      "source": [
        "def optCost(freq, i, j,verbose):\n",
        "    global cont\n",
        "    # caso base\n",
        "    \n",
        "    if j < i:\n",
        "           \n",
        "        return 0\n",
        "    if j == i:\n",
        "        cont+=1 \n",
        "        return freq[i]\n",
        "        \n",
        "     \n",
        "    # obtener la suma de la frecuencias [i] hasta jG\n",
        "    fsum = Sum(freq, i, j)\n",
        "     \n",
        "  \n",
        "    Min = 999999999999\n",
        "     \n",
        "    # considera 1 por 1 todos los elementos\n",
        "    # como raiz y recursivamente busca el costo minimo\n",
        " \n",
        "    for r in range(i, j + 1):\n",
        "        cost = (optCost(freq, i, r - 1,verbose) +\n",
        "                optCost(freq, r + 1, j,verbose))\n",
        "        if cost < Min:\n",
        "            Min = cost\n",
        "     \n",
        "    # retornar minimo costo\n",
        "    return Min + fsum\n",
        " \n",
        "def optimalSearchTree(keys, freq, n,verbose):\n",
        "    return optCost(freq, 0, n - 1,verbose)\n",
        " \n",
        "\n",
        "def Sum(freq, i, j):\n",
        "    s = 0\n",
        "    for k in range(i, j + 1):\n",
        "        s += freq[k]\n",
        "    return s\n",
        "\n",
        "cont=0\n",
        "keys = [0.05,0.10,0.05,0.05,0.05,0.10]\n",
        "freq = [0,0.15,0.10,0.05,0.10,0.20]\n",
        "verbose=False\n",
        "n = len(keys)\n",
        "print(\"el costo optimo para el arbol binario de busqueda\",\n",
        "        optimalSearchTree(keys, freq, n,verbose))\n",
        "print(\"llamadas recursivas:\",cont)"
      ],
      "metadata": {
        "colab": {
          "base_uri": "https://localhost:8080/"
        },
        "id": "WRxzWGJ4eSZf",
        "outputId": "aafa4828-6df1-49d2-bc29-2f2759fd8234"
      },
      "execution_count": 102,
      "outputs": [
        {
          "output_type": "stream",
          "name": "stdout",
          "text": [
            "el costo optimo para el arbol binario de busqueda 1.3\n",
            "llamadas recursivas: 162\n"
          ]
        }
      ]
    },
    {
      "cell_type": "markdown",
      "source": [
        "**2.1 Descripción solución dinámica**\n",
        "\n",
        "\n",
        "\n",
        "Como se explicó en la anterior solución recursiva, este método de solución no es muy efectiva frente a problemas en los cuales se tiene que solucionar un problema muy grande, ya que este se va a un tiempo exponencial por lo que la mejor forma de solucionar esto es de la forma dinamica, ya que como se sabe, esta va solucionando los problemas, al mismo tiempo que almacena la solución, de esta forma cuando se tiene que solucionar un problema más grande se puede utilizar el resultado del subproblema almacenado la cual se realiza la utilización de una matriz temporal(cost), en la cual utilizamos para almacenar las soluciones de los subproblemas cost[0][n-1] mantendrá el resultado.\n",
        "Lo primero es llenar todos los valores costo[i][i], luego todos los valores costo[i][i+1], luego costo[i][i+2].\n",
        "\n"
      ],
      "metadata": {
        "id": "NLpGo0ZL2Ctx"
      }
    },
    {
      "cell_type": "code",
      "source": [
        "\n",
        "\n",
        "\n",
        "def bottom(keys,freq,verbose):\n",
        "  cost = {}\n",
        "  global cont\n",
        "  for i in range (len(keys)):\n",
        "    cost[(i,i)]= freq[i]\n",
        "\n",
        "\n",
        "  size = 1\n",
        "\n",
        "# cost(i,j) = sum (freq of i to j) +\n",
        "# min (\n",
        "# cost (i+1,j) → primer nodo i como raiz,\n",
        "# cost(i,i) + cost (i+2,j) → segundo nodo i+1 como raiz,\n",
        "# cost(i,i+1) + cost (i+3,j) → tercer nodo i+2 como raiz,\n",
        "# .\n",
        "# .\n",
        "# cost (i,j-1) → ultimo nodo j como raiz\n",
        "# )\n",
        "\n",
        "  while ( cost.get((0,len(keys)-1),-1) == -1):\n",
        "      for i in range(len(keys)-size):\n",
        "          cont+=1\n",
        "          min_list =[]\n",
        "          min_list.append(cost[(i+1,i+size)]) # primer nodo raiz\n",
        "          if verbose==True:print(\"primer nodo:\",min_list[0])\n",
        "          min_list.append(cost[(i , i + size-1)]) # ultimo nodo siendo raiz\n",
        "          if verbose==True:print(\"ultimo nodo:\",min_list[1])\n",
        "        # agregar todos los nodos intermediarios como raiz\n",
        "          for k in range(i+1, i+size):\n",
        "              cont+=1\n",
        "              min_list.append(cost[(i , k-1)] + cost[(k+1 , i+size)])\n",
        "              if verbose==True:\n",
        "                print(\"nodos intermedios\")\n",
        "                print(min_list)\n",
        "          cost[(i, i+size)] = sum(freq[i: i+size+1]) + min (min_list)\n",
        "      size+=1\n",
        "\n",
        "  return cost[0,len(keys)-1]\n",
        "keys = [0.05,0.10,0.05,0.05,0.05,0.10]\n",
        "freq = [0,0.15,0.10,0.05,0.10,0.20]\n",
        "cont=0\n",
        "verbose=False\n",
        "print(\"costo minimo\",bottom(keys,freq,verbose))\n",
        "print(\"numero se subproblemas resueltos:\",cont)"
      ],
      "metadata": {
        "id": "zTtXzGaChZdo",
        "colab": {
          "base_uri": "https://localhost:8080/"
        },
        "outputId": "bdaed94b-8b94-4e46-9760-96fa089b7957"
      },
      "execution_count": 114,
      "outputs": [
        {
          "output_type": "stream",
          "name": "stdout",
          "text": [
            "costo minimo 1.3\n",
            "numero se subproblemas resueltos: 35\n"
          ]
        }
      ]
    },
    {
      "cell_type": "markdown",
      "source": [
        "**2.3 verbose = true**"
      ],
      "metadata": {
        "id": "MSIJy6ukeJLo"
      }
    },
    {
      "cell_type": "code",
      "source": [
        "import random\n",
        "import numpy as np\n",
        "\n",
        "def optimal_bst_instance_generator(n):\n",
        "    keys = sorted(random.sample(range(1, 100), n))\n",
        "    arr = np.random.random(n*2+1)\n",
        "    arr /= arr.sum()\n",
        "    \n",
        "    p = list(arr[:n]) # Probabilidad de las claves\n",
        "    q = arr[n:] # Probabilidad de las claves ficticias\n",
        "    return keys, p, q\n",
        "    \n",
        "keys, p, q = optimal_bst_instance_generator(5)\n",
        "n=len(keys)\n",
        "verbose=True\n",
        "print(\"caso optimo:\",bottom(keys, p,verbose))"
      ],
      "metadata": {
        "id": "HM2ea3XdyGXX",
        "colab": {
          "base_uri": "https://localhost:8080/"
        },
        "outputId": "f1ec845c-b7d7-4844-aa74-5a5bd40966ac"
      },
      "execution_count": 115,
      "outputs": [
        {
          "output_type": "stream",
          "name": "stdout",
          "text": [
            "primer nodo: 0.10044159229130575\n",
            "ultimo nodo: 0.0212590401820252\n",
            "primer nodo: 0.08199208779328405\n",
            "ultimo nodo: 0.10044159229130575\n",
            "primer nodo: 0.05287817179939621\n",
            "ultimo nodo: 0.08199208779328405\n",
            "primer nodo: 0.09822897519780567\n",
            "ultimo nodo: 0.05287817179939621\n",
            "primer nodo: 0.26442576787787386\n",
            "ultimo nodo: 0.14295967265535617\n",
            "nodos intermedios\n",
            "[0.26442576787787386, 0.14295967265535617, 0.10325112797530925]\n",
            "primer nodo: 0.18774843139207648\n",
            "ultimo nodo: 0.26442576787787386\n",
            "nodos intermedios\n",
            "[0.18774843139207648, 0.26442576787787386, 0.15331976409070197]\n",
            "primer nodo: 0.2039853187965981\n",
            "ultimo nodo: 0.18774843139207648\n",
            "nodos intermedios\n",
            "[0.2039853187965981, 0.18774843139207648, 0.18022106299108973]\n",
            "primer nodo: 0.388631615974688\n",
            "ultimo nodo: 0.3069438482419242\n",
            "nodos intermedios\n",
            "[0.388631615974688, 0.3069438482419242, 0.20900747157410168]\n",
            "nodos intermedios\n",
            "[0.388631615974688, 0.3069438482419242, 0.20900747157410168, 0.19583784445475239]\n",
            "primer nodo: 0.41332029778157564\n",
            "ultimo nodo: 0.388631615974688\n",
            "nodos intermedios\n",
            "[0.41332029778157564, 0.388631615974688, 0.3044269110879039]\n",
            "nodos intermedios\n",
            "[0.41332029778157564, 0.388631615974688, 0.3044269110879039, 0.3626547430756795]\n",
            "primer nodo: 0.6379677381696955\n",
            "ultimo nodo: 0.4524087365207636\n",
            "nodos intermedios\n",
            "[0.6379677381696955, 0.4524087365207636, 0.4345793379636008]\n",
            "nodos intermedios\n",
            "[0.6379677381696955, 0.4524087365207636, 0.4345793379636008, 0.34694499145195423]\n",
            "nodos intermedios\n",
            "[0.6379677381696955, 0.4524087365207636, 0.4345793379636008, 0.34694499145195423, 0.4051728234397299]\n",
            "caso optimo: 0.7017448587157711\n"
          ]
        }
      ]
    },
    {
      "cell_type": "markdown",
      "source": [
        "**2.4 visualizacion arbol**"
      ],
      "metadata": {
        "id": "mzW0bX0mZmgt"
      }
    },
    {
      "cell_type": "code",
      "source": [
        "def OptimalBinarySearchTree(q,p,n,e,root,w):\n",
        "    #n indica la cantidad de nodos internos\n",
        "    #w [i] [j] es la suma de las probabilidades de acceso del subárbol formado por los nodos internos bi a bj, incluidos los nodos hoja en ambos lados\n",
        "    #e [i] [j] significa costo de búsqueda\n",
        "    for i in range(n+1):\n",
        "        w[i+1][i]=q[i]\n",
        "        e[i+1][i]=0\n",
        "    for r in range(n):#r: Número de nodos -1\n",
        "        for i in range(1,n-r+1):\n",
        "            j=i+r\n",
        "            w[i][j]=round(w[i][j-1]+q[j]+p[j],3)\n",
        "            e[i][j]=round(e[i+1][j]+w[i][j],3)\n",
        "            root[i][j]=i\n",
        "            \n",
        "            #k significa usar diferentes elementos como nodo raíz\n",
        "            for k in range(i+1,j+1):\n",
        "                t=round(e[i][k-1]+e[k+1][j]+w[i][j],3)\n",
        "                if t<e[i][j]:\n",
        "                    e[i][j]=t\n",
        "                    root[i][j]=k\n",
        "    print(\"e\")\n",
        "    for i in range(1,n+2):\n",
        "        print(e[i][1:])\n",
        "    print('root')\n",
        "    for i in range(1,n+2):\n",
        "        print(root[i][1:])\n",
        "    print('w')\n",
        "    for i in range(1,n+2):\n",
        "        print(w[i])\n",
        "\n",
        "# Probabilidad de acceso del nodo hoja\n",
        "q=[0.05,0.10,0.05,0.05,0.05,0.10]\n",
        "# Probabilidad de acceso al nodo interno\n",
        "p=[0,0.15,0.10,0.05,0.10,0.20]\n",
        "n=len(p)-1\n",
        "e,root,w=[],[],[]\n",
        "for i in range(n+2):\n",
        "    e.append([0]*(n+1))\n",
        "    root.append([0]*(n+1))\n",
        "    w.append([0]*(n+1))\n",
        "OptimalBinarySearchTree(q,p,n,e,root,w)"
      ],
      "metadata": {
        "colab": {
          "base_uri": "https://localhost:8080/"
        },
        "id": "z3fs9DhqZlxO",
        "outputId": "4605bc5a-a498-47a6-8d92-2ab7f3c9efc3"
      },
      "execution_count": 119,
      "outputs": [
        {
          "output_type": "stream",
          "name": "stdout",
          "text": [
            "e\n",
            "[0.3, 0.7, 1.0, 1.45, 2.35]\n",
            "[0, 0.25, 0.5, 0.95, 1.65]\n",
            "[0, 0, 0.15, 0.45, 1.05]\n",
            "[0, 0, 0, 0.2, 0.7]\n",
            "[0, 0, 0, 0, 0.35]\n",
            "[0, 0, 0, 0, 0]\n",
            "root\n",
            "[1, 1, 2, 2, 2]\n",
            "[0, 2, 2, 2, 4]\n",
            "[0, 0, 3, 4, 5]\n",
            "[0, 0, 0, 4, 5]\n",
            "[0, 0, 0, 0, 5]\n",
            "[0, 0, 0, 0, 0]\n",
            "w\n",
            "[0.05, 0.3, 0.45, 0.55, 0.7, 1.0]\n",
            "[0, 0.1, 0.25, 0.35, 0.5, 0.8]\n",
            "[0, 0, 0.05, 0.15, 0.3, 0.6]\n",
            "[0, 0, 0, 0.05, 0.2, 0.5]\n",
            "[0, 0, 0, 0, 0.05, 0.35]\n",
            "[0, 0, 0, 0, 0, 0.1]\n"
          ]
        }
      ]
    },
    {
      "cell_type": "markdown",
      "source": [
        "# 3.- Correctitud\n",
        "\n",
        "**3.1 Teorema correctitud**\n",
        "\n",
        "El árbol de búsqueda binario óptimo debe tener un árbol para las claves ki...kj,la cual retorna el mínimo costo óptimo\n",
        "\n",
        "**3.2 prueba teorema**\n",
        "\n",
        "Para encontrar el árbol óptimo para claves distintas ordenadas ki....kj:\n",
        " -para cada posible raíz k(r) para i<=r<=j\n",
        " -hacer un subárbol óptimo para k(r)-1...,k(j)\n",
        " -hacer un subárbol óptimo para k(r)+1....k(j)\n",
        " -seleccionar la raiz que del mejor arbol\n",
        "En la cual se utiliza la siguiente fórmula:\n",
        "\n",
        "$e(i,j)= \\begin{cases}\n",
        "  0  &  \\text{,if i=j+1 } \\\\\n",
        "  min_{i\\leq r\\leq j}\\left\\{e(i,r-1)+e(r+1,j)+w(i,j) \\right\\} & \\text{ ,if i<= j}\n",
        "\\end{cases}$\n",
        "\n",
        "Caso base:\n",
        "\n",
        "El caso base es el primer nodo $cost[(i+1,i+size)$ y el último nodo $cost[(i , i + size-1)$\n",
        "\n",
        "Paso iterativo:\n",
        "\n",
        "Se considera que los problemas anteriores fueron resueltos, por lo que en cualquier ciclo n-1 cost[(i, i+size)] = sum(freq[i: i+size+1]) + min (min_list) este retorna el mínimo coste de búsqueda por lo que el algoritmo es correcto.\n",
        "\n",
        "\n",
        "\n",
        "\n",
        "\n"
      ],
      "metadata": {
        "id": "k4DYv2JryiQb"
      }
    },
    {
      "cell_type": "markdown",
      "source": [
        "#4.- Tiempo de ejecución\n",
        "\n",
        "**4.1 teorema tiempo de ejecución dinámico**\n",
        "\n",
        "El tiempo de ejecución del algoritmo de árbol de búsqueda binaria óptima de forma dinámica es de $O(n^3)$.\n",
        "\n",
        "**4.2 prueba de teorema**\n",
        "\n",
        "Como se puede ver en el código este utiliza 3 ciclos repetitivos, los índices de los bucles no tienen los mismos límites, pero están dentro de 1 como máximo por lo que el tiempo que toma este es de $O(n^3)$.\n",
        "\n",
        "\n",
        "**4.3 Espacio adicional**\n",
        "\n",
        "El espacio adicional que utiliza esta solución es de O(n^2), ya que este utiliza una matriz auxiliar en la cual almacena .\n"
      ],
      "metadata": {
        "id": "5hxBnw9jylLD"
      }
    },
    {
      "cell_type": "markdown",
      "source": [
        "# 5.- Experimentos\n",
        "\n",
        "**5.1 Experimento 1**\n",
        "\n",
        "Para nuestro primer experimento observaremos cuál es la diferencia en el tiempo de ejecución entre la solución recursivo y la solución dinámica."
      ],
      "metadata": {
        "id": "o4T46JrJyoKf"
      }
    },
    {
      "cell_type": "code",
      "source": [
        "import random\n",
        "import matplotlib.pyplot as plt\n",
        "import datetime\n",
        "from timeit import repeat\n",
        "\n",
        "x,y,y1 = [],[],[]\n",
        "verbose=False\n",
        "for n in range(5,15):\n",
        "\n",
        "  keys, p, q = optimal_bst_instance_generator(n)\n",
        "  k=len(keys)\n",
        "  \n",
        "  t = repeat(setup=\"from __main__ import optimalSearchTree\", stmt=f\"optimalSearchTree({keys},{p},{n},{verbose})\", repeat=1, number=10)\n",
        "  j = repeat(setup=\"from __main__ import bottom\", stmt=f\"bottom({keys},{p})\", repeat=1, number=10)\n",
        "  x.append(n)\n",
        "  y.append(t)\n",
        "  y1.append(j)\n",
        "\n",
        "\n",
        "plt.plot(x,y)\n",
        "plt.plot(x,y1)\n",
        "plt.legend([\"recursivo\",\"dinamico\"])\n",
        "\n",
        "\n",
        "plt.xlabel('n')\n",
        "plt.ylabel('Tiempo en ms')\n",
        "plt.show()"
      ],
      "metadata": {
        "id": "qUNK4bt9yne4",
        "colab": {
          "base_uri": "https://localhost:8080/",
          "height": 279
        },
        "outputId": "0b23396b-6c47-444c-9d63-61df28f84d8a"
      },
      "execution_count": 57,
      "outputs": [
        {
          "output_type": "display_data",
          "data": {
            "text/plain": [
              "<Figure size 432x288 with 1 Axes>"
            ],
            "image/png": "[encoded data removed]"
          },
          "metadata": {
            "needs_background": "light"
          }
        }
      ]
    },
    {
      "cell_type": "markdown",
      "source": [
        "**Observaciones y análisis**\n",
        "\n",
        "como se puede observar el tiempo de la solución recursiva genera una curva exponencial lo cual es correcto, ya que este va a resolver muchas veces los mismos problemas por lo que a medida que el problema crece este se va exponencialmente, en cambio, la solución dinámica al almacenar los resultados estos no tienen que volver a calcular los subproblemas ya resueltos por lo que es $O(n^3)$"
      ],
      "metadata": {
        "id": "AnlbC3OeUlRJ"
      }
    },
    {
      "cell_type": "markdown",
      "source": [
        "pd: Estaba muy dificil ):"
      ],
      "metadata": {
        "id": "QL8XMtx3J-qt"
      }
    }
  ]
}